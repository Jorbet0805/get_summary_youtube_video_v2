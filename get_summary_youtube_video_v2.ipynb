{
 "cells": [
  {
   "cell_type": "markdown",
   "id": "53214383-6bcb-49e5-89d5-81ce47441bc4",
   "metadata": {},
   "source": [
    "## Install dependencies"
   ]
  },
  {
   "cell_type": "code",
   "execution_count": null,
   "id": "ab666324-f351-4b43-b57a-f7bbec54da9e",
   "metadata": {},
   "outputs": [],
   "source": [
    "#!pip install langchain openai-whisper\n",
    "#!pip install openai\n",
    "#!pip install translators gTTS\n",
    "#!pip install yt_dlp"
   ]
  },
  {
   "cell_type": "markdown",
   "id": "659e7414-052e-46b7-920d-712598cfc6d8",
   "metadata": {},
   "source": [
    "## Import libraries needed"
   ]
  },
  {
   "cell_type": "code",
   "execution_count": null,
   "id": "d0ace4ac-073e-4677-8515-e9780ba34937",
   "metadata": {},
   "outputs": [],
   "source": [
    "# Import Langchain\n",
    "from langchain.document_loaders.generic import GenericLoader\n",
    "from langchain.document_loaders.parsers import OpenAIWhisperParser\n",
    "from langchain.document_loaders.blob_loaders.youtube_audio import YoutubeAudioLoader\n",
    "\n",
    "from langchain import OpenAI, LLMChain\n",
    "from langchain.chains.mapreduce import MapReduceChain\n",
    "from langchain.prompts import PromptTemplate\n",
    "from langchain.chains.summarize import load_summarize_chain\n",
    "from langchain.text_splitter import RecursiveCharacterTextSplitter\n",
    "from langchain.docstore.document import Document\n",
    "import textwrap\n",
    "\n",
    "# Import whisper\n",
    "import whisper\n",
    "\n",
    "# Translate text\n",
    "import translators as ts\n",
    "from gtts import gTTS\n",
    "\n",
    "# Other modules\n",
    "import re\n",
    "import os\n",
    "\n",
    "import gtts.lang\n",
    "print(gtts.lang.tts_langs())"
   ]
  },
  {
   "cell_type": "markdown",
   "id": "ef48e3f3-127c-4d4d-bac0-21fd57a35c78",
   "metadata": {},
   "source": [
    "## Transcribe audio to text whith YoutubeAudioLoader"
   ]
  },
  {
   "cell_type": "code",
   "execution_count": null,
   "id": "b9ead3d8-68cd-40c7-9022-b5b75b683c17",
   "metadata": {},
   "outputs": [],
   "source": [
    "def transcribe_audio(url='',save_dir=\"./\"):\n",
    "    #save_dir=\"docs/youtube/\"\n",
    "    loader = GenericLoader(\n",
    "    YoutubeAudioLoader([url],save_dir),\n",
    "    OpenAIWhisperParser()\n",
    "    )\n",
    "    transcribed_text = loader.load()\n",
    "    transcribed_text = transcribed_text[0].page_content\n",
    "    return transcribed_text"
   ]
  },
  {
   "cell_type": "markdown",
   "id": "4d934c10-5f86-4022-9c24-542613bd18cc",
   "metadata": {},
   "source": [
    "## Save transcript (text)"
   ]
  },
  {
   "cell_type": "code",
   "execution_count": null,
   "id": "5da5028a-3d39-4033-ad9f-6e6e40406061",
   "metadata": {},
   "outputs": [],
   "source": [
    "# Save the transcribed text to a file\n",
    "def save_transcript(text,save_file=\"./texto.txt\"):\n",
    "    with open(save_file, \"w\") as file:\n",
    "        file.write(transcribed_text)\n",
    "    #print(\"Transcribed text saved to text.txt\")"
   ]
  },
  {
   "cell_type": "markdown",
   "id": "5cdb93d6-b2ee-4d60-9903-fb576bbc738a",
   "metadata": {},
   "source": [
    "## Summarize text"
   ]
  },
  {
   "cell_type": "code",
   "execution_count": null,
   "id": "c31b21ad-b4bc-4d51-988f-a08c497a5b59",
   "metadata": {},
   "outputs": [],
   "source": [
    "def summarize_text(model_name,file_text='text.txt'):\n",
    "    \n",
    "    llm = OpenAI(model_name=model_name, temperature=0)\n",
    "\n",
    "    text_splitter = RecursiveCharacterTextSplitter(\n",
    "        chunk_size=1000, chunk_overlap=0, separators=[\" \", \",\", \"\\n\"]\n",
    "    )\n",
    "\n",
    "    with open(file_text) as f:\n",
    "        text = f.read()\n",
    "\n",
    "    texts = text_splitter.split_text(text)\n",
    "    docs = [Document(page_content=t) for t in texts[:4]]\n",
    "\n",
    "    chain = load_summarize_chain(llm, chain_type=\"map_reduce\")\n",
    "\n",
    "    output_summary = chain.run(docs)\n",
    "    wrapped_text = textwrap.fill(output_summary, width=100)\n",
    "    #print(wrapped_text)\n",
    "    return wrapped_text"
   ]
  },
  {
   "cell_type": "markdown",
   "id": "66517194-150b-4622-9b36-b4471f95ed34",
   "metadata": {},
   "source": [
    "## Save summary to a text file"
   ]
  },
  {
   "cell_type": "code",
   "execution_count": null,
   "id": "d6e205ba-02f0-44e4-a70a-6b6d7d5a9ec2",
   "metadata": {},
   "outputs": [],
   "source": [
    "def save_summary_text(text,save_file=\"summary_english.txt\"):\n",
    "    # Save summary to a text file\n",
    "    with open(save_file, 'w', encoding='utf-8') as f:\n",
    "        f.write(text)"
   ]
  },
  {
   "cell_type": "markdown",
   "id": "58bf7037-33d1-4b9e-90be-054c70822468",
   "metadata": {},
   "source": [
    "## Translate to other language"
   ]
  },
  {
   "cell_type": "code",
   "execution_count": null,
   "id": "0dcffa04-601b-494c-84e2-f77a432fe104",
   "metadata": {},
   "outputs": [],
   "source": [
    "def translate_language(text,lang_trans='es'):\n",
    "    # Translate language\n",
    "    summary_ms = ts.translate_text(text,from_language='auto',to_language=lang_trans)\n",
    "    return summary_ms"
   ]
  },
  {
   "cell_type": "markdown",
   "id": "bda1d9a8-c3a8-478d-ba4e-970a359428e0",
   "metadata": {},
   "source": [
    "## Transcript summary text to audio"
   ]
  },
  {
   "cell_type": "code",
   "execution_count": null,
   "id": "70b2b522-5d8e-4ba1-ac77-89731dd70c79",
   "metadata": {},
   "outputs": [],
   "source": [
    "def text_to_audio(text,save_output_file='audio_ouput',language=\"\"):\n",
    "    # the text that you want to convert to audio\n",
    "    # text = \"your text here\"\n",
    "\n",
    "    # Passing the text and language to the engine,\n",
    "    # here we have marked slow=False. Which tells\n",
    "    # the module that the converted audio should\n",
    "    # have a high speed\n",
    "    myobj = gTTS(text=text, lang=language, slow=False)\n",
    "\n",
    "    # Saving the converted audio in a mp3 file named\n",
    "    # output\n",
    "    myobj.save(f\"{save_output_file}_{language}.mp3\")"
   ]
  },
  {
   "cell_type": "markdown",
   "id": "f02f022a-6b07-4197-bb94-536bcf15d546",
   "metadata": {},
   "source": [
    "## Example"
   ]
  },
  {
   "cell_type": "code",
   "execution_count": null,
   "id": "2003a678-b86f-483e-812c-c0c432a5c1d5",
   "metadata": {},
   "outputs": [],
   "source": [
    "# To use the program change the url and lang\n",
    "# url: setting the youtube video's url \n",
    "# lan: setting the audio output language\n",
    "\n",
    "url = 'https://youtu.be/yWMKYID5fr8'\n",
    "lang = 'fr'\n",
    "\n",
    "if __name__ == '__main__':\n",
    "    text = transcribe_audio(url=,save_dir=\"./\")\n",
    "    print(20*'*')\n",
    "    print(text)\n",
    "    save_transcript(text,save_file=\"./transcribe_text.txt\")\n",
    "    text = summarize_text(model_name=\"text-davinci-003\",file_text='transcribe_text.txt')\n",
    "    print(20*'*')\n",
    "    print(text)\n",
    "    save_summary_text(text,save_file=\"summary_english.txt\")\n",
    "    text = translate_language(text,lang_trans=lang)\n",
    "    print(20*'*')\n",
    "    print(text)\n",
    "    text_to_audio(text,save_output_file='audio_ouput',language=lang)"
   ]
  },
  {
   "cell_type": "code",
   "execution_count": null,
   "id": "052ffe75-8fb0-4e2a-a87d-fe1ff44b5c8d",
   "metadata": {},
   "outputs": [],
   "source": [
    "#text_to_audio(text,save_output_file='audio_ouput',language=lang)"
   ]
  },
  {
   "cell_type": "code",
   "execution_count": null,
   "id": "fe8292e4-41fd-4479-b7b1-e03fe3b27770",
   "metadata": {},
   "outputs": [],
   "source": []
  }
 ],
 "metadata": {
  "kernelspec": {
   "display_name": "Python 3 (ipykernel)",
   "language": "python",
   "name": "python3"
  },
  "language_info": {
   "codemirror_mode": {
    "name": "ipython",
    "version": 3
   },
   "file_extension": ".py",
   "mimetype": "text/x-python",
   "name": "python",
   "nbconvert_exporter": "python",
   "pygments_lexer": "ipython3",
   "version": "3.11.5"
  }
 },
 "nbformat": 4,
 "nbformat_minor": 5
}
